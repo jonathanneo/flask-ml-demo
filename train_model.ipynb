{
 "cells": [
  {
   "cell_type": "markdown",
   "source": [
    "# Make belief model\r\n",
    "\r\n",
    "Note: The model below is a make-belief model and is intended to replicate what a real scikit learn model would look like"
   ],
   "metadata": {}
  },
  {
   "cell_type": "code",
   "execution_count": 1,
   "source": [
    "import joblib"
   ],
   "outputs": [],
   "metadata": {}
  },
  {
   "cell_type": "code",
   "execution_count": 3,
   "source": [
    "class RichnessModel():\r\n",
    "    \"\"\"\r\n",
    "    A model that predicts whether you are going to be rich or not. \r\n",
    "    \"\"\"\r\n",
    "\r\n",
    "    def predict(self, x_values: list) -> bool:\r\n",
    "        \"\"\"\r\n",
    "        Predicts whether you are going to be rich. Rich is defined as a person who has net assets of over $1m in Australia. \r\n",
    "\r\n",
    "        Input: \r\n",
    "        - x_values: [age: int, current_income: float, current_expenses: float, current_assets: float, current_debt: float]\r\n",
    "\r\n",
    "        \"\"\"\r\n",
    "        age = x_values[0]\r\n",
    "        current_income = x_values[1]\r\n",
    "        current_expenses = x_values[2]\r\n",
    "        current_assets = x_values[3]\r\n",
    "        current_debt = x_values[4]\r\n",
    "\r\n",
    "        death_age = 80 # median death age in australia\r\n",
    "\r\n",
    "        living_years = death_age - age\r\n",
    "        net_income = current_income - current_expenses\r\n",
    "\r\n",
    "        total_lifetime_net_income = living_years * net_income\r\n",
    "\r\n",
    "        total_lifetime_net_assets = current_assets + total_lifetime_net_income - current_debt\r\n",
    "\r\n",
    "        if total_lifetime_net_assets >= 1000000: \r\n",
    "            return True\r\n",
    "        else: \r\n",
    "            return False \r\n"
   ],
   "outputs": [],
   "metadata": {}
  },
  {
   "cell_type": "code",
   "execution_count": 5,
   "source": [
    "model = RichnessModel()\r\n",
    "input_1 = [40, 100000, 80000, 400000, 400000]\r\n",
    "print(f\"The prediction for {input_1} is {model.predict(input_1)}\")\r\n",
    "\r\n",
    "\r\n",
    "input_2 = [20, 150000, 50000, 100000, 0]\r\n",
    "print(f\"The prediction for {input_2} is {model.predict(input_2)}\")"
   ],
   "outputs": [
    {
     "output_type": "stream",
     "name": "stdout",
     "text": [
      "The prediction for [40, 100000, 80000, 400000, 400000] is False\n",
      "The prediction for [20, 150000, 50000, 100000, 0] is True\n"
     ]
    }
   ],
   "metadata": {}
  },
  {
   "cell_type": "code",
   "execution_count": 6,
   "source": [
    "joblib.dump(model, \"model.pkl\")"
   ],
   "outputs": [
    {
     "output_type": "execute_result",
     "data": {
      "text/plain": [
       "['model.pkl']"
      ]
     },
     "metadata": {},
     "execution_count": 6
    }
   ],
   "metadata": {}
  },
  {
   "cell_type": "code",
   "execution_count": 18,
   "source": [
    "model_reimport = joblib.load(\"model.pkl\")\r\n",
    "model_reimport.predict(input_2)"
   ],
   "outputs": [
    {
     "output_type": "execute_result",
     "data": {
      "text/plain": [
       "True"
      ]
     },
     "metadata": {},
     "execution_count": 18
    }
   ],
   "metadata": {}
  }
 ],
 "metadata": {
  "orig_nbformat": 4,
  "language_info": {
   "name": "python",
   "version": "3.6.13",
   "mimetype": "text/x-python",
   "codemirror_mode": {
    "name": "ipython",
    "version": 3
   },
   "pygments_lexer": "ipython3",
   "nbconvert_exporter": "python",
   "file_extension": ".py"
  },
  "kernelspec": {
   "name": "python3",
   "display_name": "Python 3.6.13 64-bit ('PythonData': conda)"
  },
  "interpreter": {
   "hash": "2b733aa7fedd49db484cedcfdc55e4d5fbcb89255481337c0d3e6f64eb4fdf0c"
  }
 },
 "nbformat": 4,
 "nbformat_minor": 2
}