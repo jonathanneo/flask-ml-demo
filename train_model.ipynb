{
 "cells": [
  {
   "cell_type": "markdown",
   "source": [
    "# Make belief model\r\n",
    "\r\n",
    "Note: The model below is a make-belief model and is intended to replicate what a real scikit learn model would look like"
   ],
   "metadata": {}
  },
  {
   "cell_type": "code",
   "execution_count": 1,
   "source": [
    "import joblib\r\n",
    "from RichnessModel import RichnessModel"
   ],
   "outputs": [],
   "metadata": {}
  },
  {
   "cell_type": "code",
   "execution_count": 2,
   "source": [
    "model = RichnessModel()\r\n",
    "input_1 = [40, 100000, 80000, 400000, 400000]\r\n",
    "print(f\"The prediction for {input_1} is {model.predict(input_1)}\")\r\n",
    "\r\n",
    "\r\n",
    "input_2 = [20, 150000, 50000, 100000, 0]\r\n",
    "print(f\"The prediction for {input_2} is {model.predict(input_2)}\")"
   ],
   "outputs": [
    {
     "output_type": "stream",
     "name": "stdout",
     "text": [
      "The prediction for [40, 100000, 80000, 400000, 400000] is not rich\n",
      "The prediction for [20, 150000, 50000, 100000, 0] is rich\n"
     ]
    }
   ],
   "metadata": {}
  },
  {
   "cell_type": "code",
   "execution_count": 3,
   "source": [
    "joblib.dump(model, \"model.pkl\")"
   ],
   "outputs": [
    {
     "output_type": "execute_result",
     "data": {
      "text/plain": [
       "['model.pkl']"
      ]
     },
     "metadata": {},
     "execution_count": 3
    }
   ],
   "metadata": {}
  },
  {
   "cell_type": "code",
   "execution_count": 4,
   "source": [
    "model_reimport = joblib.load(\"model.pkl\")\r\n",
    "model_reimport.predict(input_2)"
   ],
   "outputs": [
    {
     "output_type": "execute_result",
     "data": {
      "text/plain": [
       "'rich'"
      ]
     },
     "metadata": {},
     "execution_count": 4
    }
   ],
   "metadata": {}
  }
 ],
 "metadata": {
  "orig_nbformat": 4,
  "language_info": {
   "name": "python",
   "version": "3.6.13",
   "mimetype": "text/x-python",
   "codemirror_mode": {
    "name": "ipython",
    "version": 3
   },
   "pygments_lexer": "ipython3",
   "nbconvert_exporter": "python",
   "file_extension": ".py"
  },
  "kernelspec": {
   "name": "python3",
   "display_name": "Python 3.6.13 64-bit ('PythonData': conda)"
  },
  "interpreter": {
   "hash": "2b733aa7fedd49db484cedcfdc55e4d5fbcb89255481337c0d3e6f64eb4fdf0c"
  }
 },
 "nbformat": 4,
 "nbformat_minor": 2
}